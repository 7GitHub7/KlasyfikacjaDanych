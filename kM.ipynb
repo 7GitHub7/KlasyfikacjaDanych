{
 "cells": [
  {
   "cell_type": "code",
   "execution_count": 1,
   "metadata": {},
   "outputs": [],
   "source": [
    "import numpy as np\n",
    "import pandas as pd\n",
    "from scipy.spatial import distance\n",
    "from sklearn.model_selection import train_test_split  # dividing data into groups\n",
    "from operator import itemgetter  # get each rows from pandas data type\n",
    "from sklearn.metrics import confusion_matrix\n",
    "import math\n",
    "from matplotlib import pyplot as plt\n",
    "from sklearn.cluster import KMeans\n",
    "from sklearn.preprocessing import StandardScaler\n",
    "\n"
   ]
  },
  {
   "cell_type": "markdown",
   "metadata": {},
   "source": [
    "Metoda do wczytwyania z pliku konkretnych klas i cech"
   ]
  },
  {
   "cell_type": "code",
   "execution_count": 2,
   "metadata": {},
   "outputs": [],
   "source": [
    "def _prepare_data(path_to_csv,class_list,feature_list):\n",
    "        \"\"\"import data\"\"\"\n",
    "        df = pd.read_csv(path_to_csv, header=None)\n",
    "        \"\"\"choose class\"\"\"\n",
    "        k = df[(df[0].isin(class_list))]\n",
    "        \"\"\"return class with specific features\"\"\"\n",
    "        return k[feature_list]"
   ]
  },
  {
   "cell_type": "markdown",
   "metadata": {},
   "source": [
    "Wybranie klas o numerach 3, 5, 8, 11."
   ]
  },
  {
   "cell_type": "markdown",
   "metadata": {},
   "source": [
    "Tutaj można także wpisać numery cech(0 to nazwa klasy)"
   ]
  },
  {
   "cell_type": "code",
   "execution_count": 3,
   "metadata": {},
   "outputs": [],
   "source": [
    "data = _prepare_data(path_to_csv=\"leaf.csv\",class_list = [3,5,8,11],\n",
    "                                            feature_list = [0,2,4])"
   ]
  },
  {
   "cell_type": "markdown",
   "metadata": {},
   "source": [
    "Podział danych na treningowe i testowe"
   ]
  },
  {
   "cell_type": "code",
   "execution_count": 4,
   "metadata": {},
   "outputs": [],
   "source": [
    "train, test = train_test_split(\n",
    "            data.copy(), test_size=0.2, random_state=111)"
   ]
  },
  {
   "cell_type": "markdown",
   "metadata": {},
   "source": [
    "Wyświetlenie macierzy kowiariancji"
   ]
  },
  {
   "cell_type": "code",
   "execution_count": 5,
   "metadata": {},
   "outputs": [
    {
     "data": {
      "text/html": [
       "<div>\n",
       "<style scoped>\n",
       "    .dataframe tbody tr th:only-of-type {\n",
       "        vertical-align: middle;\n",
       "    }\n",
       "\n",
       "    .dataframe tbody tr th {\n",
       "        vertical-align: top;\n",
       "    }\n",
       "\n",
       "    .dataframe thead th {\n",
       "        text-align: right;\n",
       "    }\n",
       "</style>\n",
       "<table border=\"1\" class=\"dataframe\">\n",
       "  <thead>\n",
       "    <tr style=\"text-align: right;\">\n",
       "      <th></th>\n",
       "      <th>0</th>\n",
       "      <th>2</th>\n",
       "      <th>4</th>\n",
       "    </tr>\n",
       "  </thead>\n",
       "  <tbody>\n",
       "    <tr>\n",
       "      <th>0</th>\n",
       "      <td>1.000000</td>\n",
       "      <td>-0.450049</td>\n",
       "      <td>0.628216</td>\n",
       "    </tr>\n",
       "    <tr>\n",
       "      <th>2</th>\n",
       "      <td>-0.450049</td>\n",
       "      <td>1.000000</td>\n",
       "      <td>0.389380</td>\n",
       "    </tr>\n",
       "    <tr>\n",
       "      <th>4</th>\n",
       "      <td>0.628216</td>\n",
       "      <td>0.389380</td>\n",
       "      <td>1.000000</td>\n",
       "    </tr>\n",
       "  </tbody>\n",
       "</table>\n",
       "</div>"
      ],
      "text/plain": [
       "          0         2         4\n",
       "0  1.000000 -0.450049  0.628216\n",
       "2 -0.450049  1.000000  0.389380\n",
       "4  0.628216  0.389380  1.000000"
      ]
     },
     "execution_count": 5,
     "metadata": {},
     "output_type": "execute_result"
    }
   ],
   "source": [
    "train.corr()"
   ]
  },
  {
   "cell_type": "code",
   "execution_count": 6,
   "metadata": {},
   "outputs": [],
   "source": [
    "train = np.array(train)"
   ]
  },
  {
   "cell_type": "code",
   "execution_count": null,
   "metadata": {},
   "outputs": [],
   "source": []
  },
  {
   "cell_type": "code",
   "execution_count": 7,
   "metadata": {},
   "outputs": [],
   "source": [
    "five = train[np.where(train[:,0] == 5)]\n",
    "five = five[:,[1,2]]"
   ]
  },
  {
   "cell_type": "code",
   "execution_count": 8,
   "metadata": {},
   "outputs": [],
   "source": [
    "tree = train[np.where(train[:,0] == 3)]\n",
    "tree = tree[:,[1,2]]"
   ]
  },
  {
   "cell_type": "code",
   "execution_count": 9,
   "metadata": {},
   "outputs": [],
   "source": [
    "eight = train[np.where(train[:,0] == 8)]\n",
    "eight = eight[:,[1,2]]"
   ]
  },
  {
   "cell_type": "code",
   "execution_count": 10,
   "metadata": {},
   "outputs": [],
   "source": [
    "eleven = train[np.where(train[:,0] == 11)]\n",
    "eleven = eleven[:,[1,2]]"
   ]
  },
  {
   "cell_type": "code",
   "execution_count": 11,
   "metadata": {},
   "outputs": [
    {
     "data": {
      "image/png": "[encoded data removed]",
      "text/plain": [
       "<Figure size 432x288 with 1 Axes>"
      ]
     },
     "metadata": {
      "needs_background": "light"
     },
     "output_type": "display_data"
    }
   ],
   "source": [
    "\n",
    "plt.scatter(five[:,[0]], five[:,[1]], s = 20, c = 'red')\n",
    "plt.scatter(tree[:,[0]], tree[:,[1]], s = 20, c = 'yellow')\n",
    "plt.scatter(eight[:,[0]], eight[:,[1]], s = 20, c = 'black')\n",
    "plt.scatter(eleven[:,[0]], eleven[:,[1]], s = 20, c = 'blue')\n",
    "plt.show()\n"
   ]
  },
  {
   "cell_type": "markdown",
   "metadata": {},
   "source": [
    "Standaryzujemy dane"
   ]
  },
  {
   "cell_type": "code",
   "execution_count": 12,
   "metadata": {},
   "outputs": [],
   "source": [
    "train = train[:,[1,2]]\n",
    "scaler = StandardScaler()\n",
    "\n",
    "train = scaler.fit_transform(train)"
   ]
  },
  {
   "cell_type": "markdown",
   "metadata": {},
   "source": [
    "Wybieramy tylko cechy"
   ]
  },
  {
   "cell_type": "markdown",
   "metadata": {},
   "source": [
    "Wyznaczamy optymalną liczbę modów, czyli przyjmujemy np. maksymalną liczbę skupień 8(wiecej nie potrzebujemy), iterujemy i sprawdzamy dla jakiej liczby skupień funkcja przestaje opadać"
   ]
  },
  {
   "cell_type": "code",
   "execution_count": 13,
   "metadata": {},
   "outputs": [
    {
     "data": {
      "image/png": "[encoded data removed]",
      "text/plain": [
       "<Figure size 432x288 with 1 Axes>"
      ]
     },
     "metadata": {
      "needs_background": "light"
     },
     "output_type": "display_data"
    }
   ],
   "source": [
    "dist = []\n",
    "for i in range(1, 8):\n",
    "    kmeans = KMeans(n_clusters=i, init='k-means++', max_iter=300, n_init=8, random_state=0)\n",
    "    kmeans.fit(train)\n",
    "    dist.append(kmeans.inertia_)\n",
    "plt.plot(range(1, 8), dist)\n",
    "\n",
    "plt.title('Elbow Method')\n",
    "plt.xlabel('Liczba klastrów')\n",
    "plt.ylabel('Odległości')\n",
    "plt.show()\n"
   ]
  },
  {
   "cell_type": "code",
   "execution_count": 14,
   "metadata": {},
   "outputs": [
    {
     "data": {
      "image/png": "[encoded data removed]",
      "text/plain": [
       "<Figure size 432x288 with 1 Axes>"
      ]
     },
     "metadata": {
      "needs_background": "light"
     },
     "output_type": "display_data"
    },
    {
     "data": {
      "text/plain": [
       "array([[-0.27765814, -1.60189882],\n",
       "       [ 1.20853952,  1.31519305],\n",
       "       [-1.23719796,  0.22888883],\n",
       "       [ 0.76769826,  0.1148879 ]])"
      ]
     },
     "execution_count": 14,
     "metadata": {},
     "output_type": "execute_result"
    }
   ],
   "source": [
    "n_clusters = 4\n",
    "\n",
    "kmeans = KMeans(n_clusters=n_clusters, init='k-means++', max_iter=300, n_init=n_clusters, random_state=0)\n",
    "y_kmeans = kmeans.fit_predict(train)\n",
    "\n",
    "colors = ['red','yellow','black','blue']\n",
    "\n",
    "for cluster in range(n_clusters):\n",
    "    plt.scatter(train[y_kmeans == cluster, 0], train[y_kmeans == cluster, 1], s = 20, c = colors[cluster], label = 'Mod {}'.format(cluster))\n",
    "\n",
    "plt.xlabel('Cecha 1')\n",
    "plt.ylabel('Cecha 2')\n",
    "\n",
    "\n",
    "plt.legend()\n",
    "\n",
    "\n",
    "plt.show()\n",
    "kmeans.cluster_centers_\n"
   ]
  },
  {
   "cell_type": "code",
   "execution_count": null,
   "metadata": {},
   "outputs": [],
   "source": []
  }
 ],
 "metadata": {
  "kernelspec": {
   "display_name": "Python 3",
   "language": "python",
   "name": "python3"
  },
  "language_info": {
   "codemirror_mode": {
    "name": "ipython",
    "version": 3
   },
   "file_extension": ".py",
   "mimetype": "text/x-python",
   "name": "python",
   "nbconvert_exporter": "python",
   "pygments_lexer": "ipython3",
   "version": "3.8.2"
  }
 },
 "nbformat": 4,
 "nbformat_minor": 4
}
